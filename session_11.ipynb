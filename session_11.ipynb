{
 "cells": [
  {
   "cell_type": "code",
   "execution_count": 27,
   "id": "e4356012-695f-470a-9763-ebc8c285489c",
   "metadata": {},
   "outputs": [
    {
     "name": "stdout",
     "output_type": "stream",
     "text": [
      "A   bahubali is a king     \n",
      "a   BAHUBALI is a king     \n",
      "[1, 2, 3, 4, 5]\n"
     ]
    }
   ],
   "source": [
    "#strings\n",
    "#everything is a object in python\n",
    "#object -> properties,methods\n",
    "\n",
    "name = \"a   BAHUBALI is a king     \"\n",
    "print(name.capitalize())\n",
    "print(name)  #string is immutable\n",
    "# print(name.count('b'))\n",
    "# print(name.isalnum())\n",
    "# print(name.isdigit())\n",
    "# print(name.isupper())\n",
    "# print(name.rindex('B'))\n",
    "# print(name.split(' '))\n",
    "# print(list(name))\n",
    "# print(name.strip())\n",
    "\n"
   ]
  },
  {
   "cell_type": "code",
   "execution_count": 30,
   "id": "218039c9-d2b6-41d2-a72d-fb402af55e28",
   "metadata": {},
   "outputs": [
    {
     "name": "stdout",
     "output_type": "stream",
     "text": [
      "[1, 2, 3, 4, 5]\n",
      "[10, 2, 3, 4, 5]\n",
      "[1, 2, 3, 4, 5]\n"
     ]
    }
   ],
   "source": [
    "#lists\n",
    "li = [1,2,4,3,5]\n",
    "li.sort()\n",
    "print(li)\n",
    "# li.clear()\n",
    "# print(li)\n",
    "li2 = li.copy()\n",
    "li[0] = 10\n",
    "print(li)\n",
    "print(li2)"
   ]
  },
  {
   "cell_type": "code",
   "execution_count": null,
   "id": "c15d10a3-1368-4a95-ad67-63b1a7b160b5",
   "metadata": {},
   "outputs": [],
   "source": []
  }
 ],
 "metadata": {
  "kernelspec": {
   "display_name": "Python 3 (ipykernel)",
   "language": "python",
   "name": "python3"
  },
  "language_info": {
   "codemirror_mode": {
    "name": "ipython",
    "version": 3
   },
   "file_extension": ".py",
   "mimetype": "text/x-python",
   "name": "python",
   "nbconvert_exporter": "python",
   "pygments_lexer": "ipython3",
   "version": "3.9.13"
  }
 },
 "nbformat": 4,
 "nbformat_minor": 5
}
