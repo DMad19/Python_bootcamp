{
 "cells": [
  {
   "cell_type": "code",
   "execution_count": 5,
   "id": "ca525b4d-48b6-4ac8-ab8b-45fbb0417cde",
   "metadata": {},
   "outputs": [
    {
     "name": "stdout",
     "output_type": "stream",
     "text": [
      "90\n",
      "[20, 80, 10, 80, 50]\n",
      "B\n",
      "yashwanth\n"
     ]
    }
   ],
   "source": [
    "#strings and lists\n",
    "\n",
    "li = [20,90,10,80,50]\n",
    "print(li[1])\n",
    "\n",
    "li[1] = 80  #mutable \n",
    "print(li)\n",
    "\n",
    "name = \"Bahubali\"\n",
    "print(name[0])\n",
    "name = \"yashwanth\" #immutable\n",
    "print(name)"
   ]
  },
  {
   "cell_type": "code",
   "execution_count": 8,
   "id": "b9bca5f2-9b7c-4a8b-bde7-b22cf315427b",
   "metadata": {},
   "outputs": [
    {
     "name": "stdout",
     "output_type": "stream",
     "text": [
      "[1, 2, 3, 4, 5]\n",
      "[1, 2, 3, 4, 5]\n",
      "[1, 20, 3, 4, 5]\n",
      "[1, 20, 3, 4, 5]\n"
     ]
    }
   ],
   "source": [
    "li = [1,2,3,4,5]\n",
    "li2 = li\n",
    "print(li)\n",
    "print(li2)\n",
    "\n",
    "li[1] = 20\n",
    "print(li)\n",
    "print(li2)"
   ]
  },
  {
   "cell_type": "code",
   "execution_count": 9,
   "id": "d01fea6c-2505-492c-9bb2-472b1cb91333",
   "metadata": {},
   "outputs": [
    {
     "name": "stdout",
     "output_type": "stream",
     "text": [
      "bahubali\n",
      "bahubali\n"
     ]
    }
   ],
   "source": [
    "name = \"bahubali\"\n",
    "name2 = name\n",
    "print(name)\n",
    "print(name2)\n",
    "name = \"Yashwanth\"\n",
    "print(name)\n",
    "print(name2)"
   ]
  },
  {
   "cell_type": "code",
   "execution_count": null,
   "id": "7b196bf1-89f5-4c9d-84f6-4547d51bce70",
   "metadata": {},
   "outputs": [],
   "source": []
  }
 ],
 "metadata": {
  "kernelspec": {
   "display_name": "Python 3 (ipykernel)",
   "language": "python",
   "name": "python3"
  },
  "language_info": {
   "codemirror_mode": {
    "name": "ipython",
    "version": 3
   },
   "file_extension": ".py",
   "mimetype": "text/x-python",
   "name": "python",
   "nbconvert_exporter": "python",
   "pygments_lexer": "ipython3",
   "version": "3.9.13"
  }
 },
 "nbformat": 4,
 "nbformat_minor": 5
}
