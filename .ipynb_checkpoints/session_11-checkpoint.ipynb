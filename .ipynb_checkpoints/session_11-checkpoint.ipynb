{
 "cells": [
  {
   "cell_type": "code",
   "execution_count": 22,
   "id": "e4356012-695f-470a-9763-ebc8c285489c",
   "metadata": {},
   "outputs": [
    {
     "name": "stdout",
     "output_type": "stream",
     "text": [
      "Bahubali is a king\n",
      "0\n",
      "False\n",
      "False\n",
      "False\n",
      "4\n",
      "['BAHUBALI', 'is', 'a', 'king']\n",
      "['B', 'A', 'H', 'U', 'B', 'A', 'L', 'I', ' ', 'i', 's', ' ', 'a', ' ', 'k', 'i', 'n', 'g']\n"
     ]
    }
   ],
   "source": [
    "#strings\n",
    "#everything is a object in python\n",
    "#object -> properties,methods\n",
    "\n",
    "name = \"   BAHUBALI is a king     \"\n",
    "print(name.capitalize())\n",
    "print(name.count('b'))\n",
    "print(name.isalnum())\n",
    "print(name.isdigit())\n",
    "print(name.isupper())\n",
    "print(name.rindex('B'))\n",
    "print(name.split(' '))\n",
    "print(list(name))\n",
    "print(name.strip())\n",
    "#lists"
   ]
  },
  {
   "cell_type": "code",
   "execution_count": null,
   "id": "218039c9-d2b6-41d2-a72d-fb402af55e28",
   "metadata": {},
   "outputs": [],
   "source": []
  }
 ],
 "metadata": {
  "kernelspec": {
   "display_name": "Python 3 (ipykernel)",
   "language": "python",
   "name": "python3"
  },
  "language_info": {
   "codemirror_mode": {
    "name": "ipython",
    "version": 3
   },
   "file_extension": ".py",
   "mimetype": "text/x-python",
   "name": "python",
   "nbconvert_exporter": "python",
   "pygments_lexer": "ipython3",
   "version": "3.9.13"
  }
 },
 "nbformat": 4,
 "nbformat_minor": 5
}
