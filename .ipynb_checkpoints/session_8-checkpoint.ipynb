{
 "cells": [
  {
   "cell_type": "code",
   "execution_count": 2,
   "id": "aac77e6c-371b-4d15-93f5-2f4fef3ae831",
   "metadata": {},
   "outputs": [
    {
     "name": "stdout",
     "output_type": "stream",
     "text": [
      "[0, 1, 2, 3, 4, 5, 6, 7, 8, 9]\n"
     ]
    }
   ],
   "source": [
    "#range function\n",
    "#returns sequence\n",
    "print(list( range(0,10,1)))"
   ]
  },
  {
   "cell_type": "code",
   "execution_count": 36,
   "id": "4297fa10-35a7-407e-a48b-0c4a8e089146",
   "metadata": {},
   "outputs": [],
   "source": [
    "name = 'Bahubali'\n",
    "# i = 0\n",
    "# while i<len(name):\n",
    "#     print(name[i])\n",
    "#     i+=1"
   ]
  },
  {
   "cell_type": "code",
   "execution_count": 37,
   "id": "a9f2134f-1e2b-453b-87f4-0f3f25706a5c",
   "metadata": {},
   "outputs": [
    {
     "name": "stdout",
     "output_type": "stream",
     "text": [
      "B\n",
      "a\n",
      "h\n",
      "u\n",
      "b\n",
      "a\n",
      "l\n",
      "i\n"
     ]
    }
   ],
   "source": [
    "for i in name: \n",
    "    print(i)"
   ]
  },
  {
   "cell_type": "code",
   "execution_count": 17,
   "id": "b72d0e16-fc65-4b28-b8e1-34ecfd15db3a",
   "metadata": {},
   "outputs": [
    {
     "name": "stdout",
     "output_type": "stream",
     "text": [
      "Y\n",
      "a\n",
      "s\n",
      "h\n"
     ]
    }
   ],
   "source": [
    "name = 'Yash'\n",
    "       #0123\n",
    "# print(len(name))\n",
    "# print(list(   range(len(name))    ))  #range(4) -> 0,1,2,3\n",
    "for i in range(len(name)): #range(4) - > i = 0,1,2,3\n",
    "    print(name[i])"
   ]
  },
  {
   "cell_type": "code",
   "execution_count": 10,
   "id": "a45df78a-46c1-471f-b713-f76cb00347ac",
   "metadata": {},
   "outputs": [
    {
     "name": "stdout",
     "output_type": "stream",
     "text": [
      "0\n",
      "1\n",
      "2\n",
      "3\n",
      "4\n",
      "5\n",
      "6\n",
      "7\n",
      "8\n",
      "9\n"
     ]
    }
   ],
   "source": [
    "for i in range(10):  #  0 to 9  # i=0,1,2,.... 9 \n",
    "    print(i)"
   ]
  },
  {
   "cell_type": "code",
   "execution_count": 20,
   "id": "f7fd840d-361e-4b4c-a2ad-3dfab4824663",
   "metadata": {},
   "outputs": [
    {
     "name": "stdout",
     "output_type": "stream",
     "text": [
      "10\n",
      "20\n",
      "30\n",
      "40\n",
      "55\n"
     ]
    }
   ],
   "source": [
    "li = [10,20,30,40,55]\n",
    "for i in li: #i = 0 , 1, 2, 3 ,4 5\n",
    "    print(i)"
   ]
  },
  {
   "cell_type": "code",
   "execution_count": 21,
   "id": "274be4b2-c09b-4d15-b8cd-39b62460e11e",
   "metadata": {},
   "outputs": [
    {
     "name": "stdout",
     "output_type": "stream",
     "text": [
      "10\n",
      "20\n",
      "30\n",
      "40\n",
      "55\n"
     ]
    }
   ],
   "source": [
    "for i in range(len(li)): #i=0,1,2,3,4\n",
    "    print(li[i])"
   ]
  },
  {
   "cell_type": "code",
   "execution_count": 30,
   "id": "7018e744-7e78-44c4-b740-4de699280af2",
   "metadata": {},
   "outputs": [
    {
     "name": "stdout",
     "output_type": "stream",
     "text": [
      "60\n",
      "50\n",
      "40\n",
      "30\n",
      "20\n",
      "10\n"
     ]
    }
   ],
   "source": [
    "li = [10,20,30,40,50,60]\n",
    "#     0  1  2   3  4  5\n",
    "for i in range(len(li)-1,-1,-1):  #range(5,-1,-1) ->i =  5, 4 3 2 1 0\n",
    "    print(li[i])"
   ]
  },
  {
   "cell_type": "code",
   "execution_count": 31,
   "id": "8501510d-e118-435e-bcbb-2af6993697a6",
   "metadata": {},
   "outputs": [
    {
     "name": "stdout",
     "output_type": "stream",
     "text": [
      "i\n",
      "a\n",
      "h\n",
      "B\n",
      " \n",
      "y\n",
      "k\n",
      "c\n",
      "o\n",
      "R\n"
     ]
    }
   ],
   "source": [
    "name = 'Rocky Bhai'\n",
    "for i in range(len(name)-1,-1,-1):  #range(5,-1,-1) ->i =  5, 4 3 2 1 0\n",
    "    print(name[i])"
   ]
  },
  {
   "cell_type": "code",
   "execution_count": 34,
   "id": "39d14096-5855-4e4e-a351-6becd25ad5b2",
   "metadata": {},
   "outputs": [
    {
     "name": "stdout",
     "output_type": "stream",
     "text": [
      "15\n"
     ]
    }
   ],
   "source": [
    "count = 0\n",
    "for i in range(1,32,1):\n",
    "    if i%2==0:\n",
    "        count += 1\n",
    "print(count)"
   ]
  },
  {
   "cell_type": "code",
   "execution_count": null,
   "id": "534c1b9c-cecc-4d5f-a66c-f4833a58593f",
   "metadata": {},
   "outputs": [],
   "source": []
  }
 ],
 "metadata": {
  "kernelspec": {
   "display_name": "Python 3 (ipykernel)",
   "language": "python",
   "name": "python3"
  },
  "language_info": {
   "codemirror_mode": {
    "name": "ipython",
    "version": 3
   },
   "file_extension": ".py",
   "mimetype": "text/x-python",
   "name": "python",
   "nbconvert_exporter": "python",
   "pygments_lexer": "ipython3",
   "version": "3.9.13"
  }
 },
 "nbformat": 4,
 "nbformat_minor": 5
}
