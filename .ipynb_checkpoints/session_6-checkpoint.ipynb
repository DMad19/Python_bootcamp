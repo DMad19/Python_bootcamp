{
 "cells": [
  {
   "cell_type": "code",
   "execution_count": 1,
   "id": "cab94606-60b2-4bce-9326-d6dc7b422db9",
   "metadata": {},
   "outputs": [],
   "source": [
    "#while loop\n",
    "#strings and lists\n",
    "#indexing in both and len()"
   ]
  },
  {
   "cell_type": "code",
   "execution_count": 5,
   "id": "6b856867-10ad-402b-b605-b637700a9a34",
   "metadata": {},
   "outputs": [
    {
     "name": "stdout",
     "output_type": "stream",
     "text": [
      "1\n",
      "3\n",
      "5\n",
      "7\n",
      "9\n"
     ]
    }
   ],
   "source": [
    "#while loop \n",
    "#1 to 10\n",
    "i = 1 #intialization\n",
    "while i<=10: #11<=10\n",
    "    print(i)  1 3 5 7 9 \n",
    "    i+=2 #change the condtion\n"
   ]
  },
  {
   "cell_type": "code",
   "execution_count": null,
   "id": "2b7f7b8e-731a-41f1-a959-988cb88f5384",
   "metadata": {},
   "outputs": [],
   "source": []
  }
 ],
 "metadata": {
  "kernelspec": {
   "display_name": "Python 3 (ipykernel)",
   "language": "python",
   "name": "python3"
  },
  "language_info": {
   "codemirror_mode": {
    "name": "ipython",
    "version": 3
   },
   "file_extension": ".py",
   "mimetype": "text/x-python",
   "name": "python",
   "nbconvert_exporter": "python",
   "pygments_lexer": "ipython3",
   "version": "3.9.13"
  }
 },
 "nbformat": 4,
 "nbformat_minor": 5
}
