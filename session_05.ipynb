{
 "cells": [
  {
   "cell_type": "code",
   "execution_count": 1,
   "id": "8c3e6ad8-0bfc-44b3-8a16-85c332663353",
   "metadata": {},
   "outputs": [],
   "source": [
    "# if condition:\n",
    "     #work statements\n",
    "#and or not\n",
    "#condition1 and c2\n",
    "#c1 or c2\n",
    "#not(c1)"
   ]
  },
  {
   "cell_type": "code",
   "execution_count": 2,
   "id": "e6c8eb67-ebd0-4817-ac30-dc8a3de0e8c0",
   "metadata": {},
   "outputs": [
    {
     "data": {
      "text/plain": [
       "' \\nthis\\nis \\na multilined\\nstring\\n'"
      ]
     },
     "execution_count": 2,
     "metadata": {},
     "output_type": "execute_result"
    }
   ],
   "source": [
    "#strings\n",
    "\n",
    "name = 'Ram'\n",
    "food = \"Birayani\"\n",
    "\n",
    "sentence = \"It's mine\"\n",
    "sent = 'she said \"I am doing homework\"'\n",
    "\n",
    "sentence1 = '''\n",
    "she said \"It's mine\"\n",
    "'''\n",
    "\n",
    "#i'm writing\n",
    "''' \n",
    "this\n",
    "is \n",
    "a multilined\n",
    "string\n",
    "'''"
   ]
  },
  {
   "cell_type": "code",
   "execution_count": 3,
   "id": "f4c5209d-8672-42c0-8a03-cd74e787eaf4",
   "metadata": {},
   "outputs": [
    {
     "name": "stdout",
     "output_type": "stream",
     "text": [
      "3\n"
     ]
    }
   ],
   "source": [
    "name = 'Ram'\n",
    "#indexes = positions\n",
    "# Ram\n",
    "# 012\n",
    "print(len(name))\n"
   ]
  },
  {
   "cell_type": "code",
   "execution_count": 4,
   "id": "01a7e7a5-3e17-4b18-9243-56ffa564f6f4",
   "metadata": {},
   "outputs": [
    {
     "name": "stdout",
     "output_type": "stream",
     "text": [
      "5\n"
     ]
    }
   ],
   "source": [
    "#store marks of five students\n",
    "# marks1 = 15\n",
    "# marks2 = 16\n",
    "# marks3 = 17\n",
    "# marks4 = 12\n",
    "# marks5 = 11\n",
    "#lists come into picture\n",
    "\n",
    "#datastructure available in python to store multiple things\n",
    "\n",
    "#syntax\n",
    "li = [15,16,17,12,11]\n",
    "#     0   1  2  3  4\n",
    "print(len(li))\n",
    "\n",
    "#array \n",
    "#int arr[5] = []\n",
    "# arr = [15,16,17,18,19]\n",
    "\n"
   ]
  },
  {
   "cell_type": "code",
   "execution_count": 7,
   "id": "6a003625-e728-47bf-9c85-8f0f3a6dc401",
   "metadata": {},
   "outputs": [
    {
     "name": "stdout",
     "output_type": "stream",
     "text": [
      "python\n",
      "python\n",
      "python\n",
      "python\n",
      "python\n",
      "python\n",
      "python\n",
      "python\n",
      "python\n",
      "python\n"
     ]
    }
   ],
   "source": [
    "i = 0   \n",
    "while i<10: #0<10\n",
    "    print('python')\n",
    "    i+=1 #condition changing statement"
   ]
  },
  {
   "cell_type": "code",
   "execution_count": 11,
   "id": "f3be9e97-ad72-49ad-b4f3-099bd4e6297a",
   "metadata": {},
   "outputs": [
    {
     "name": "stdout",
     "output_type": "stream",
     "text": [
      "1\n",
      "2\n",
      "3\n",
      "4\n",
      "5\n",
      "6\n",
      "7\n",
      "8\n",
      "9\n",
      "10\n"
     ]
    }
   ],
   "source": [
    "i = 0 \n",
    "while i<10:\n",
    "    print(i+1)\n",
    "    i+=1\n",
    "#printing 1 what if i say to print 1 to 10"
   ]
  }
 ],
 "metadata": {
  "kernelspec": {
   "display_name": "Python 3 (ipykernel)",
   "language": "python",
   "name": "python3"
  },
  "language_info": {
   "codemirror_mode": {
    "name": "ipython",
    "version": 3
   },
   "file_extension": ".py",
   "mimetype": "text/x-python",
   "name": "python",
   "nbconvert_exporter": "python",
   "pygments_lexer": "ipython3",
   "version": "3.9.13"
  }
 },
 "nbformat": 4,
 "nbformat_minor": 5
}
