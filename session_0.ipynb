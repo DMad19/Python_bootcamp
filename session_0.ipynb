{
 "cells": [
  {
   "cell_type": "code",
   "execution_count": 2,
   "id": "04701dec-8639-42c0-8d76-ecf421ceed5a",
   "metadata": {},
   "outputs": [
    {
     "name": "stdin",
     "output_type": "stream",
     "text": [
      " rakesh\n"
     ]
    },
    {
     "name": "stdout",
     "output_type": "stream",
     "text": [
      "hi rakesh\n"
     ]
    }
   ],
   "source": [
    "name = input()\n",
    "print('hi '+name)"
   ]
  },
  {
   "cell_type": "code",
   "execution_count": 4,
   "id": "54937632-4428-43ef-bb14-87b4e0aa3b74",
   "metadata": {},
   "outputs": [
    {
     "name": "stdout",
     "output_type": "stream",
     "text": [
      "dinesh\n",
      "dinesh\n"
     ]
    }
   ],
   "source": [
    "def fun():\n",
    "    name = 'dinesh'\n",
    "    print(name)\n",
    "fun()\n",
    "fun()"
   ]
  },
  {
   "cell_type": "code",
   "execution_count": 10,
   "id": "b4a66cee-66c9-4adc-992c-15c65abf3b07",
   "metadata": {},
   "outputs": [
    {
     "name": "stdout",
     "output_type": "stream",
     "text": [
      "c\n",
      "string\n",
      "dinesh\n"
     ]
    }
   ],
   "source": [
    "#primitives\n",
    "#everything in python is object\n",
    "#we only have objects\n",
    "#int\n",
    "# print(a)\n",
    "a = 'c'\n",
    "print(a)\n",
    "a = 'string'\n",
    "print(a)\n",
    "# int c \n",
    "# int a \n",
    "# float a\n",
    "# double a\n",
    "# char a\n",
    "# int a = 10;\n",
    "a = 10;\n",
    "a = 'dinesh'\n",
    "print(a)"
   ]
  },
  {
   "cell_type": "code",
   "execution_count": 12,
   "id": "742dc27c-f841-4c56-965a-3b3e3fb3acdd",
   "metadata": {},
   "outputs": [
    {
     "name": "stdout",
     "output_type": "stream",
     "text": [
      "<class 'int'>\n",
      "<class 'str'>\n"
     ]
    }
   ],
   "source": [
    "a = 10\n",
    "print(type(a))\n",
    "a = 'dinesh'\n",
    "print(type(a))"
   ]
  },
  {
   "cell_type": "code",
   "execution_count": 13,
   "id": "320aa1cb-9523-43b5-8599-15d6eb52574c",
   "metadata": {},
   "outputs": [
    {
     "name": "stdout",
     "output_type": "stream",
     "text": [
      "20\n"
     ]
    }
   ],
   "source": [
    "a = 10 \n",
    "a = 20 # a = 20\n",
    "print(a)"
   ]
  },
  {
   "cell_type": "code",
   "execution_count": 14,
   "id": "069d6f6f-b8b9-488f-9303-2b143bfd5ede",
   "metadata": {},
   "outputs": [
    {
     "name": "stdout",
     "output_type": "stream",
     "text": [
      "dinesh\n"
     ]
    }
   ],
   "source": [
    "a = 10\n",
    "a = 'dinesh'\n",
    "print(a)"
   ]
  },
  {
   "cell_type": "code",
   "execution_count": 15,
   "id": "94cb3fc9-2da2-4a1d-bd2b-f28bd739652d",
   "metadata": {},
   "outputs": [
    {
     "name": "stdout",
     "output_type": "stream",
     "text": [
      "30\n"
     ]
    }
   ],
   "source": [
    "a = 10\n",
    "b = 20\n",
    "print(a+b)"
   ]
  },
  {
   "cell_type": "code",
   "execution_count": 24,
   "id": "9e06d34f-20da-4109-8265-373bb6868f6d",
   "metadata": {},
   "outputs": [
    {
     "name": "stdout",
     "output_type": "stream",
     "text": [
      "9\n"
     ]
    }
   ],
   "source": [
    "#calclations or operations\n",
    "#+,-,*,/,//,%,**\n",
    "a = 90\n",
    "b = 20\n",
    "# print(a+b)\n",
    "# print(a-b)\n",
    "# print(a*b)\n",
    "# print(  int(a/b) ) \n",
    "#5.0\n",
    "#int( value )\n",
    "# 5.0 -> int\n",
    "# 5\n",
    "# print(a/b)\n",
    "# print(a // b)\n",
    "# print(a % b)\n",
    "a = 3\n",
    "b = 2\n",
    "print(a**b)  #3 power 2\n",
    "     #a power b"
   ]
  },
  {
   "cell_type": "code",
   "execution_count": 25,
   "id": "4217c7a6-25c5-47c0-b6cd-ff312291451f",
   "metadata": {},
   "outputs": [
    {
     "name": "stdout",
     "output_type": "stream",
     "text": [
      "4\n"
     ]
    }
   ],
   "source": [
    "print(4+5-10//2)\n",
    "        #9 -  #5 \n",
    "        # 4\n",
    "#bodmas\n",
    "# brackets\n",
    "# of\n",
    "# division\n",
    "# multi\n",
    "#addition\n",
    "#subtraction\n",
    "# a  + b/ c\n",
    "# (a+b) /c"
   ]
  },
  {
   "cell_type": "code",
   "execution_count": 26,
   "id": "9fd36d4e-f45b-4754-894d-7544b75bd7ae",
   "metadata": {},
   "outputs": [
    {
     "name": "stdout",
     "output_type": "stream",
     "text": [
      "20.0\n",
      "15.0\n"
     ]
    }
   ],
   "source": [
    "a = 10\n",
    "b = 20\n",
    "c = 2\n",
    "print( a + b / c)  #  20 / 2 = 10.0 + 10 = 20.0\n",
    "print( (a+b) /c)   #   30/2 = 15.0"
   ]
  },
  {
   "cell_type": "code",
   "execution_count": null,
   "id": "4e01bc09-9d7c-4fe0-a175-2525a9211488",
   "metadata": {},
   "outputs": [],
   "source": []
  }
 ],
 "metadata": {
  "kernelspec": {
   "display_name": "Python 3 (ipykernel)",
   "language": "python",
   "name": "python3"
  },
  "language_info": {
   "codemirror_mode": {
    "name": "ipython",
    "version": 3
   },
   "file_extension": ".py",
   "mimetype": "text/x-python",
   "name": "python",
   "nbconvert_exporter": "python",
   "pygments_lexer": "ipython3",
   "version": "3.9.13"
  }
 },
 "nbformat": 4,
 "nbformat_minor": 5
}
