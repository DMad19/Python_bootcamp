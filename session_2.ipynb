{
 "cells": [
  {
   "cell_type": "code",
   "execution_count": 3,
   "id": "b8d1035b-5b64-4b52-b68a-7996bd906706",
   "metadata": {},
   "outputs": [
    {
     "name": "stdin",
     "output_type": "stream",
     "text": [
      "enter rupees 1000\n"
     ]
    },
    {
     "name": "stdout",
     "output_type": "stream",
     "text": [
      "12.330456226880395\n"
     ]
    }
   ],
   "source": [
    "#input as rupees (int datatype)\n",
    "rupees = float(input('enter rupees'))\n",
    "usd = rupees/81.1\n",
    "print(usd)"
   ]
  },
  {
   "cell_type": "code",
   "execution_count": 4,
   "id": "8cc14b30-c6a1-4523-874b-5f44dd774970",
   "metadata": {},
   "outputs": [
    {
     "name": "stdout",
     "output_type": "stream",
     "text": [
      "<class 'str'>\n"
     ]
    }
   ],
   "source": [
    "#object - student\n",
    "#name - 'Ram' -> string\n",
    "#usn  - '1sj19is059' -> string\n",
    "#sem  - 8 -> int\n",
    "#marks - 95 -> int \n",
    "#section - 'A' -> string  -> properties\n",
    "#isPassed - True/ False ->Bool\n",
    "#avg - 80.2 -> float\n"
   ]
  },
  {
   "cell_type": "code",
   "execution_count": 10,
   "id": "69b08db8-e603-4ddc-a1fa-cbf17602cd6e",
   "metadata": {},
   "outputs": [
    {
     "name": "stdout",
     "output_type": "stream",
     "text": [
      "this is first line<:)this is second\n"
     ]
    }
   ],
   "source": [
    "print('this is first line',end=\"\")\n",
    "print('this is second')"
   ]
  },
  {
   "cell_type": "code",
   "execution_count": 13,
   "id": "6e3b9f39-5730-4078-948a-6ff744475df6",
   "metadata": {},
   "outputs": [
    {
     "name": "stdin",
     "output_type": "stream",
     "text": [
      "enter name Ram\n"
     ]
    },
    {
     "name": "stdout",
     "output_type": "stream",
     "text": [
      "name is Ram\n"
     ]
    }
   ],
   "source": [
    "name  = input('enter name')\n",
    "print('name is '+name)"
   ]
  },
  {
   "cell_type": "code",
   "execution_count": 19,
   "id": "878e68ef-e24c-424b-a84d-78cd7a191c8c",
   "metadata": {},
   "outputs": [
    {
     "name": "stdin",
     "output_type": "stream",
     "text": [
      " Ram\n",
      " 21\n"
     ]
    },
    {
     "name": "stdout",
     "output_type": "stream",
     "text": [
      "my name is Ram and i am 21 years old\n"
     ]
    }
   ],
   "source": [
    "name = input()\n",
    "age = int(input())\n",
    "print('my name is '+name+' and i am '+str(age)+' years old')"
   ]
  },
  {
   "cell_type": "code",
   "execution_count": 28,
   "id": "1178e538-2b9c-4e3c-8fed-d8f9520e8100",
   "metadata": {},
   "outputs": [
    {
     "name": "stdout",
     "output_type": "stream",
     "text": [
      "AdipurushAdipurushAdipurushAdipurushAdipurush\n"
     ]
    }
   ],
   "source": [
    "name = 'Adipurush'\n",
    "# print(name + ' is a movie')\n",
    "print(name * 5)"
   ]
  },
  {
   "cell_type": "code",
   "execution_count": 29,
   "id": "5d2e1379-a42f-4a8c-a1cf-ef80abef7f5f",
   "metadata": {},
   "outputs": [
    {
     "name": "stdout",
     "output_type": "stream",
     "text": [
      "11 10\n"
     ]
    }
   ],
   "source": [
    "# identifiers\n",
    "a = 10\n",
    "#everything is a object in python\n",
    "b =10\n",
    "a +=1\n",
    "print(a,b)"
   ]
  },
  {
   "cell_type": "code",
   "execution_count": 32,
   "id": "74766e1d-394d-4dd8-88a1-cfee852880b0",
   "metadata": {},
   "outputs": [
    {
     "name": "stdin",
     "output_type": "stream",
     "text": [
      " 11\n"
     ]
    }
   ],
   "source": [
    "#it takes age as input and if the age is 18 or greater, allow him to vote print('you can vote')\n",
    "#input\n",
    "age = int(input())\n",
    "if age>=18:\n",
    "   print('you can vote')\n"
   ]
  },
  {
   "cell_type": "code",
   "execution_count": 37,
   "id": "14366bb6-2e1b-43b8-aa74-a9d2076a4661",
   "metadata": {},
   "outputs": [
    {
     "name": "stdout",
     "output_type": "stream",
     "text": [
      "True\n"
     ]
    }
   ],
   "source": [
    "#booleans\n",
    "#True values\n",
    " #True, any number, any string\n",
    "#False values\n",
    " #False, 0, empty string"
   ]
  },
  {
   "cell_type": "code",
   "execution_count": 38,
   "id": "21b0ce89-be10-4ca3-b72c-2ac39285b06c",
   "metadata": {},
   "outputs": [
    {
     "name": "stdout",
     "output_type": "stream",
     "text": [
      "True\n"
     ]
    }
   ],
   "source": [
    "print(bool(9))"
   ]
  },
  {
   "cell_type": "code",
   "execution_count": 39,
   "id": "8a75cf45-ea52-4f82-a9e9-3b81b5b353c9",
   "metadata": {},
   "outputs": [
    {
     "name": "stdout",
     "output_type": "stream",
     "text": [
      "True\n"
     ]
    }
   ],
   "source": [
    "print(bool(-2))"
   ]
  },
  {
   "cell_type": "code",
   "execution_count": 41,
   "id": "d4ff3fff-177b-476a-add7-d2dba12a3840",
   "metadata": {},
   "outputs": [
    {
     "name": "stdout",
     "output_type": "stream",
     "text": [
      "False\n"
     ]
    }
   ],
   "source": [
    "print(bool(''))"
   ]
  },
  {
   "cell_type": "code",
   "execution_count": 42,
   "id": "b29227f8-ad60-4f08-b292-85e1004e1e5f",
   "metadata": {},
   "outputs": [
    {
     "name": "stdout",
     "output_type": "stream",
     "text": [
      "False\n"
     ]
    }
   ],
   "source": [
    "print(bool(3-3))"
   ]
  },
  {
   "cell_type": "code",
   "execution_count": 50,
   "id": "1c6f180c-4eae-4a94-a3e8-a58b854b2e28",
   "metadata": {},
   "outputs": [
    {
     "name": "stdout",
     "output_type": "stream",
     "text": [
      "False\n",
      "True\n",
      "True\n",
      "True\n",
      "True\n",
      "False\n"
     ]
    }
   ],
   "source": [
    "#conditional operators\n",
    "# >,<,>=,<=,==,!=\n",
    "\n",
    "print(4>4)\n",
    "print(3<4)\n",
    "print(4>=4) # 4>4 or 4==4\n",
    "print(4<=4) #4<4 or 4==4\n",
    "print(4==4) #4==4 \n",
    "print(4!=4)"
   ]
  }
 ],
 "metadata": {
  "kernelspec": {
   "display_name": "Python 3 (ipykernel)",
   "language": "python",
   "name": "python3"
  },
  "language_info": {
   "codemirror_mode": {
    "name": "ipython",
    "version": 3
   },
   "file_extension": ".py",
   "mimetype": "text/x-python",
   "name": "python",
   "nbconvert_exporter": "python",
   "pygments_lexer": "ipython3",
   "version": "3.9.13"
  }
 },
 "nbformat": 4,
 "nbformat_minor": 5
}
