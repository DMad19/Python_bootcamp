{
 "cells": [
  {
   "cell_type": "code",
   "execution_count": 1,
   "id": "37a2b8d8-1817-437e-b519-091a911d1af7",
   "metadata": {},
   "outputs": [
    {
     "name": "stdout",
     "output_type": "stream",
     "text": [
      "40\n"
     ]
    }
   ],
   "source": [
    "#python is interpreted langauge\n",
    "#everything is object in python\n",
    "#rules to name a variable or function -> indentifier \n",
    "a = 20\n",
    "a = 40 \n",
    "print(a)"
   ]
  },
  {
   "cell_type": "code",
   "execution_count": null,
   "id": "15d8861d-5356-476d-b8f4-96ce8ee54cb9",
   "metadata": {},
   "outputs": [],
   "source": []
  },
  {
   "cell_type": "code",
   "execution_count": 3,
   "id": "e135dfd1-32e6-4ecf-a95f-d87d84327430",
   "metadata": {},
   "outputs": [],
   "source": [
    "a = 40\n",
    "print(a)\n",
    "a = 'sjcit'"
   ]
  },
  {
   "cell_type": "code",
   "execution_count": 4,
   "id": "a5c5081f-4a3d-4158-8260-1080f6124150",
   "metadata": {},
   "outputs": [
    {
     "name": "stdout",
     "output_type": "stream",
     "text": [
      "20.0\n"
     ]
    }
   ],
   "source": [
    "#opertors\n",
    "#+,-,*,/,//,%,**\n",
    "a = 20\n",
    "b =30\n",
    "\n",
    "print(a*b/b) #bodmas\n",
    "        #20/20\n",
    "        #1.0\n",
    "      #a*1.0\n",
    "      #20*1.0\n",
    "       #20.0"
   ]
  },
  {
   "cell_type": "code",
   "execution_count": 7,
   "id": "682f1cc0-8ab3-4202-a4d0-e9146239daa8",
   "metadata": {},
   "outputs": [
    {
     "name": "stdout",
     "output_type": "stream",
     "text": [
      "21\n"
     ]
    }
   ],
   "source": [
    "a = 20\n",
    "a = a+1\n",
    "print(a)"
   ]
  },
  {
   "cell_type": "code",
   "execution_count": 9,
   "id": "bcd13a04-10f5-4961-8602-583e4c0b5100",
   "metadata": {},
   "outputs": [
    {
     "name": "stdout",
     "output_type": "stream",
     "text": [
      "21\n"
     ]
    }
   ],
   "source": [
    "a = 20\n",
    "#a = a + 1\n",
    "#=> a = a + 1\n",
    "a +=1\n",
    "print(a)"
   ]
  },
  {
   "cell_type": "code",
   "execution_count": 10,
   "id": "3dd9eb13-87df-4ee6-9ea1-b10a57951af4",
   "metadata": {},
   "outputs": [
    {
     "name": "stdout",
     "output_type": "stream",
     "text": [
      "22\n"
     ]
    }
   ],
   "source": [
    "a = 20\n",
    "a += 2 #increment operator\n",
    "print(a)"
   ]
  },
  {
   "cell_type": "code",
   "execution_count": 11,
   "id": "f53812ee-fda1-462e-aa58-c944c84e0014",
   "metadata": {},
   "outputs": [
    {
     "name": "stdout",
     "output_type": "stream",
     "text": [
      "18\n"
     ]
    }
   ],
   "source": [
    "a = 20  #a = 20\n",
    "a -= 2   # a = a-2 => 20-2 =>18\n",
    "print(a)  #display 18"
   ]
  },
  {
   "cell_type": "code",
   "execution_count": 12,
   "id": "cd848fa1-2e8a-4c27-88a4-902829a51c00",
   "metadata": {},
   "outputs": [
    {
     "name": "stdout",
     "output_type": "stream",
     "text": [
      "40\n"
     ]
    }
   ],
   "source": [
    "a = 20\n",
    "a *= 2\n",
    "print(a)"
   ]
  },
  {
   "cell_type": "code",
   "execution_count": 13,
   "id": "3a24ae08-91bc-4e4b-a0a3-9dd1ea0f0705",
   "metadata": {},
   "outputs": [
    {
     "name": "stdout",
     "output_type": "stream",
     "text": [
      "10.0\n"
     ]
    }
   ],
   "source": [
    "a = 20 #a = 20\n",
    "a /= 2 # a = a/2 => 20/2 =>10.0 \n",
    "print(a)"
   ]
  },
  {
   "cell_type": "code",
   "execution_count": 22,
   "id": "b2d681b8-e300-4218-83ca-4ee066c4d44b",
   "metadata": {},
   "outputs": [
    {
     "name": "stdin",
     "output_type": "stream",
     "text": [
      "enter price of item1 202\n",
      "enter price of item2 202\n"
     ]
    },
    {
     "name": "stdout",
     "output_type": "stream",
     "text": [
      "404\n"
     ]
    }
   ],
   "source": [
    "#let's say we have some shop\n",
    "item1 = int(input('enter price of item1'))\n",
    "item2 = int(input('enter price of item2')) \n",
    "print(item1+item2) #10 + 20 = 1020"
   ]
  },
  {
   "cell_type": "code",
   "execution_count": 23,
   "id": "d2d19a75-646c-4e4e-9e73-d51c34274920",
   "metadata": {
    "jp-MarkdownHeadingCollapsed": true,
    "tags": []
   },
   "outputs": [
    {
     "name": "stdin",
     "output_type": "stream",
     "text": [
      "enter price 15\n"
     ]
    },
    {
     "name": "stdout",
     "output_type": "stream",
     "text": [
      "15\n"
     ]
    }
   ],
   "source": [
    "item1 = int(input('enter price'))\n",
    "print(item1)"
   ]
  },
  {
   "cell_type": "code",
   "execution_count": 29,
   "id": "8023a205-161f-42f6-a678-9bd75a53d4fc",
   "metadata": {},
   "outputs": [
    {
     "name": "stdin",
     "output_type": "stream",
     "text": [
      "enter length 15\n",
      "enter breadth 10\n"
     ]
    },
    {
     "name": "stdout",
     "output_type": "stream",
     "text": [
      "area of rectangle is 150\n"
     ]
    }
   ],
   "source": [
    "#let's your sister or brother came to you and asked to solve his maths problems.\n",
    "#20 problems which all are finding area of rectangle = length * breadth\n",
    "#input\n",
    "#output \n",
    "length = int(input('enter length')) \n",
    "breadth = int(input('enter breadth'))\n",
    "area = length * breadth # 10*5 = 50\n",
    "print('area of rectangle is '+str(area))"
   ]
  },
  {
   "cell_type": "code",
   "execution_count": 35,
   "id": "7c24051d-4cda-4dd9-a25b-0864213d78a7",
   "metadata": {},
   "outputs": [
    {
     "name": "stdin",
     "output_type": "stream",
     "text": [
      "enter radius 5.5\n"
     ]
    },
    {
     "name": "stdout",
     "output_type": "stream",
     "text": [
      "94.985\n"
     ]
    }
   ],
   "source": [
    "radius = float(input('enter radius')) #change so that i take input from user \n",
    "area = 3.14 * radius **2\n",
    "print(area)"
   ]
  },
  {
   "cell_type": "code",
   "execution_count": 1,
   "id": "18422685-ccf6-4cb1-a601-18ab6201a7bd",
   "metadata": {},
   "outputs": [
    {
     "name": "stdout",
     "output_type": "stream",
     "text": [
      "10\n"
     ]
    }
   ],
   "source": [
    "a = 10\n",
    "#a++ #not supported , gives error\n",
    "print(a)"
   ]
  },
  {
   "cell_type": "code",
   "execution_count": null,
   "id": "ea608a0a-819d-4b62-890c-a012d763c5f8",
   "metadata": {},
   "outputs": [],
   "source": []
  }
 ],
 "metadata": {
  "kernelspec": {
   "display_name": "Python 3 (ipykernel)",
   "language": "python",
   "name": "python3"
  },
  "language_info": {
   "codemirror_mode": {
    "name": "ipython",
    "version": 3
   },
   "file_extension": ".py",
   "mimetype": "text/x-python",
   "name": "python",
   "nbconvert_exporter": "python",
   "pygments_lexer": "ipython3",
   "version": "3.9.13"
  }
 },
 "nbformat": 4,
 "nbformat_minor": 5
}
