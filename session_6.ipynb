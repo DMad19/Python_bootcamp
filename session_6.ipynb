{
 "cells": [
  {
   "cell_type": "code",
   "execution_count": 1,
   "id": "cab94606-60b2-4bce-9326-d6dc7b422db9",
   "metadata": {},
   "outputs": [],
   "source": [
    "#while loop\n",
    "#strings and lists\n",
    "#indexing in both and len()"
   ]
  },
  {
   "cell_type": "code",
   "execution_count": 5,
   "id": "6b856867-10ad-402b-b605-b637700a9a34",
   "metadata": {},
   "outputs": [
    {
     "name": "stdout",
     "output_type": "stream",
     "text": [
      "1\n",
      "3\n",
      "5\n",
      "7\n",
      "9\n"
     ]
    }
   ],
   "source": [
    "#while loop \n",
    "#1 to 10\n",
    "i = 1 #intialization\n",
    "while i<=10: #11<=10\n",
    "    print(i)  #1 3 5 7 9 \n",
    "    i+=2 #change the condtion"
   ]
  },
  {
   "cell_type": "code",
   "execution_count": 7,
   "id": "2b7f7b8e-731a-41f1-a959-988cb88f5384",
   "metadata": {},
   "outputs": [
    {
     "name": "stdin",
     "output_type": "stream",
     "text": [
      " 10\n"
     ]
    },
    {
     "name": "stdout",
     "output_type": "stream",
     "text": [
      "1\n",
      "2\n",
      "3\n",
      "4\n",
      "5\n",
      "6\n",
      "7\n",
      "8\n",
      "9\n",
      "10\n"
     ]
    }
   ],
   "source": [
    "# 1 to n \n",
    "# 6 -> 1 to 6\n",
    "#9 -> 1 to 9\n",
    "n = int(input()) #10\n",
    "i = 1 #\n",
    "while i<=n: #11<11\n",
    "    print(i) #1 2 3 ... 10 \n",
    "    i+=1\n"
   ]
  },
  {
   "cell_type": "code",
   "execution_count": 11,
   "id": "911205c4-5760-4052-b785-848e228cedd7",
   "metadata": {},
   "outputs": [
    {
     "name": "stdin",
     "output_type": "stream",
     "text": [
      " 5\n"
     ]
    },
    {
     "name": "stdout",
     "output_type": "stream",
     "text": [
      "0\n",
      "1\n",
      "1\n",
      "2\n",
      "3\n"
     ]
    }
   ],
   "source": [
    "#fibanacci series\n",
    "# 0 1 1 2 3 5 8......\n",
    "# print first n terms of fibonacci series # 0 1 1 2 3\\\n",
    "n = int(input())\n",
    "first = 0\n",
    "second = 1\n",
    "i = 2\n",
    "print(first)\n",
    "print(second)\n",
    "while i<n:\n",
    "    s = first + second \n",
    "    first, second = second,s\n",
    "    print(s)\n",
    "    i+=1"
   ]
  },
  {
   "cell_type": "code",
   "execution_count": 16,
   "id": "d1439f6d-773e-4bb0-ae93-5472ee69562b",
   "metadata": {},
   "outputs": [
    {
     "name": "stdin",
     "output_type": "stream",
     "text": [
      " 0\n"
     ]
    },
    {
     "name": "stdout",
     "output_type": "stream",
     "text": [
      "0\n",
      "1\n"
     ]
    }
   ],
   "source": [
    "item1 = 0\n",
    "item2 = 1\n",
    "i = 2\n",
    "n = int(input())\n",
    "print(item1)\n",
    "print(item2)\n",
    "\n",
    "while i<n: #2<5\n",
    "    s = item1 + item2 # 0 1 1    #0 ,1  -> 1 , 1  # item1 - > item2  and item2-> s\n",
    "    item1, item2 = item2,s\n",
    "    print(s)\n",
    "    i+=1"
   ]
  },
  {
   "cell_type": "code",
   "execution_count": 17,
   "id": "9b09a061-de2b-4e08-ae4d-cf07550792bf",
   "metadata": {},
   "outputs": [],
   "source": [
    "# 1 2 -> 2 1 \n",
    "a =10\n",
    "b =20\n",
    "\n",
    "a = 20\n",
    "b =10\n",
    "# greater number\n",
    "# a b c\n",
    "#a "
   ]
  },
  {
   "cell_type": "code",
   "execution_count": 21,
   "id": "a1171c57-e3f6-41af-83b1-a06d1d9f795c",
   "metadata": {},
   "outputs": [
    {
     "name": "stdin",
     "output_type": "stream",
     "text": [
      " 6\n"
     ]
    },
    {
     "name": "stdout",
     "output_type": "stream",
     "text": [
      "21\n"
     ]
    }
   ],
   "source": [
    "i = 1\n",
    "s = 0\n",
    "n = int(input())\n",
    "while i<=n: # 1 2 \n",
    "    s = s+i \n",
    "    i+=1\n",
    "print(s)"
   ]
  },
  {
   "cell_type": "code",
   "execution_count": null,
   "id": "8f3bcf09-297e-4bab-a16c-b51ab7231be0",
   "metadata": {},
   "outputs": [],
   "source": []
  }
 ],
 "metadata": {
  "kernelspec": {
   "display_name": "Python 3 (ipykernel)",
   "language": "python",
   "name": "python3"
  },
  "language_info": {
   "codemirror_mode": {
    "name": "ipython",
    "version": 3
   },
   "file_extension": ".py",
   "mimetype": "text/x-python",
   "name": "python",
   "nbconvert_exporter": "python",
   "pygments_lexer": "ipython3",
   "version": "3.9.13"
  }
 },
 "nbformat": 4,
 "nbformat_minor": 5
}
