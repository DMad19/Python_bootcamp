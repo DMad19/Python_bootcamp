{
 "cells": [
  {
   "cell_type": "code",
   "execution_count": 1,
   "id": "1c893447-1efc-4b15-919a-1f447e08a8a2",
   "metadata": {},
   "outputs": [
    {
     "name": "stdout",
     "output_type": "stream",
     "text": [
      "B\n",
      "a\n",
      "h\n",
      "u\n",
      "b\n",
      "a\n",
      "l\n",
      "i\n"
     ]
    }
   ],
   "source": [
    "name = \"Bahubali\"\n",
    "for i in name:\n",
    "    print(i)"
   ]
  },
  {
   "cell_type": "code",
   "execution_count": 15,
   "id": "0207ff57-a0d7-4408-8298-85ca0d6d862f",
   "metadata": {},
   "outputs": [
    {
     "name": "stdout",
     "output_type": "stream",
     "text": [
      "i\n",
      "l\n",
      "a\n",
      "b\n"
     ]
    }
   ],
   "source": [
    "name = \"Bahubali\"\n",
    "       #01234567\n",
    "for i in range(len(name)-1,3,-1):\n",
    "    print(name[i])\n"
   ]
  },
  {
   "cell_type": "code",
   "execution_count": 18,
   "id": "7bcf9c4e-86d5-48ff-a924-4f35d1d4761b",
   "metadata": {},
   "outputs": [
    {
     "name": "stdout",
     "output_type": "stream",
     "text": [
      "-1\n",
      "i\n",
      "-2\n",
      "l\n",
      "-3\n",
      "a\n",
      "-4\n",
      "b\n",
      "-5\n",
      "u\n",
      "-6\n",
      "h\n",
      "-7\n",
      "a\n",
      "-8\n",
      "B\n"
     ]
    }
   ],
   "source": [
    "for i in range(-1,-len(name)-1,-1): \n",
    "    print(i)\n",
    "    print(name[i])\n",
    "\n",
    "# li = [90,23,43,54]\n",
    "# for i in range(2,len(li),1):\n",
    "#     print(li[i])"
   ]
  },
  {
   "cell_type": "code",
   "execution_count": 19,
   "id": "9847a755-b4ec-4bf9-b685-03467bffb341",
   "metadata": {},
   "outputs": [
    {
     "name": "stdout",
     "output_type": "stream",
     "text": [
      "B\n",
      "i\n",
      "i\n",
      "123\n"
     ]
    }
   ],
   "source": [
    "#strings and lists\n",
    "\n",
    "name = \"Bahubali\" #  8 \n",
    "       #01234567\n",
    "       #-8-7-6-5-4-3-2-1 \n",
    "print(name[0])\n",
    "print(name[7])\n",
    "print(name[-1])\n",
    "\n",
    "\n",
    "#lists \n",
    "\n",
    "li = [89,90,12,23,34,123]\n",
    "print(li[-1])"
   ]
  },
  {
   "cell_type": "code",
   "execution_count": 22,
   "id": "f9536ede-59ed-4827-b16c-c89aecb28d14",
   "metadata": {},
   "outputs": [
    {
     "name": "stdout",
     "output_type": "stream",
     "text": [
      "B\n",
      "a\n",
      "h\n",
      "u\n",
      "b\n",
      "a\n",
      "l\n",
      "i\n",
      "Bahubali\n",
      "Bahu\n"
     ]
    }
   ],
   "source": [
    "# for i in range(0,len(name),1):\n",
    "#     print(name[i])\n",
    "    \n",
    "# print(name[0:len(name):1])\n",
    "\n",
    "#Bahubali\n",
    "#01234567"
   ]
  },
  {
   "cell_type": "code",
   "execution_count": 24,
   "id": "f5125d11-8397-4dd4-8c65-cfa1ce4e8e79",
   "metadata": {},
   "outputs": [
    {
     "name": "stdout",
     "output_type": "stream",
     "text": [
      "Bh\n"
     ]
    }
   ],
   "source": [
    "#string[start:end:step]\n",
    "print(name[:4:2])  #02\n",
    "                   #Bh"
   ]
  },
  {
   "cell_type": "code",
   "execution_count": 41,
   "id": "251e6bd5-5299-4483-a33e-d54d66dd28df",
   "metadata": {},
   "outputs": [
    {
     "name": "stdin",
     "output_type": "stream",
     "text": [
      "enter the name bahubali\n"
     ]
    },
    {
     "name": "stdout",
     "output_type": "stream",
     "text": [
      "not a palindrome\n"
     ]
    }
   ],
   "source": [
    "#string[start:end:step]\n",
    "\n",
    "print(name[0:len(name):1]) #01234567\n",
    "print(name[::-1]) \n",
    "\n",
    "#palindrome\n",
    "#name if yes -> 'palindrome' if not 'no'\n",
    "#name  == reverse\n",
    "#malayalam == malayalam\n",
    "\n",
    "name = input('enter the name') \n",
    "if(name == name[::-1]):   \n",
    "    print(\"it's a palindrome\")\n",
    "else:\n",
    "    print(\"not a palindrome\")"
   ]
  },
  {
   "cell_type": "code",
   "execution_count": 46,
   "id": "8b74d33e-2a11-47eb-907d-a51458a4df20",
   "metadata": {},
   "outputs": [
    {
     "name": "stdout",
     "output_type": "stream",
     "text": [
      "[43, 21]\n"
     ]
    }
   ],
   "source": [
    "li = [12,32,43,21,10]\n",
    "print(li[2:4:])"
   ]
  },
  {
   "cell_type": "code",
   "execution_count": null,
   "id": "df97ac5a-1671-4142-9bd2-1f971db6056e",
   "metadata": {},
   "outputs": [],
   "source": []
  }
 ],
 "metadata": {
  "kernelspec": {
   "display_name": "Python 3 (ipykernel)",
   "language": "python",
   "name": "python3"
  },
  "language_info": {
   "codemirror_mode": {
    "name": "ipython",
    "version": 3
   },
   "file_extension": ".py",
   "mimetype": "text/x-python",
   "name": "python",
   "nbconvert_exporter": "python",
   "pygments_lexer": "ipython3",
   "version": "3.9.13"
  }
 },
 "nbformat": 4,
 "nbformat_minor": 5
}
