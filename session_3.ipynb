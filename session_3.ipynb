{
 "cells": [
  {
   "cell_type": "code",
   "execution_count": 9,
   "id": "3ff00427-bf9e-41ea-84ae-5ae055f56704",
   "metadata": {},
   "outputs": [
    {
     "name": "stdout",
     "output_type": "stream",
     "text": [
      "False\n",
      "False\n"
     ]
    }
   ],
   "source": [
    "#stack memory and heap memory\n",
    "#booleans\n",
    "#Truthy values and Falsy Values\n",
    "#True - other than false values\n",
    "#False - 0,''\n",
    "\n",
    "#conditional operators\n",
    "# >,<,>=,<=,==,!=\n",
    "\n",
    "print(7>8) #7>8 False\n",
    "print(7<8) #True\n",
    "print(7==8) #False\n",
    "print(7!=8) #True\n",
    "print(7>=8) #False\n",
    "print(7<=8) #True\n",
    "\n",
    "a = ''\n",
    "b = 0\n",
    "print(bool(a))\n",
    "print(bool(b))"
   ]
  },
  {
   "cell_type": "code",
   "execution_count": null,
   "id": "dc7e1f98-4225-49c0-b004-fb427ad546de",
   "metadata": {},
   "outputs": [],
   "source": []
  },
  {
   "cell_type": "code",
   "execution_count": 11,
   "id": "3805f431-0bc9-464e-ac21-b9780e57f4da",
   "metadata": {},
   "outputs": [
    {
     "name": "stdout",
     "output_type": "stream",
     "text": [
      "True\n"
     ]
    }
   ],
   "source": [
    "a = 257\n",
    "b = 257\n",
    "print(a == b) #it only checks values not whether it refers same objects"
   ]
  },
  {
   "cell_type": "code",
   "execution_count": 14,
   "id": "579961f2-caad-466d-91dd-813e8a726317",
   "metadata": {},
   "outputs": [
    {
     "name": "stdout",
     "output_type": "stream",
     "text": [
      "True\n"
     ]
    }
   ],
   "source": [
    "a = 10\n",
    "b = 10\n",
    "print(a is b) #whether both points out to the same object"
   ]
  },
  {
   "cell_type": "code",
   "execution_count": 15,
   "id": "db788bd2-9ee4-4d37-8461-af56527c3790",
   "metadata": {},
   "outputs": [
    {
     "name": "stdout",
     "output_type": "stream",
     "text": [
      "False\n"
     ]
    }
   ],
   "source": [
    "print(bool(7+7/7-7-1)) #bodmas\n",
    "           #7+1-7-1\n",
    "           #8-7-1\n",
    "           #8-8\n",
    "           #0\n",
    "            #print(bool(0))\n",
    "        "
   ]
  },
  {
   "cell_type": "code",
   "execution_count": 23,
   "id": "e100d51e-6fae-46fd-91f6-9da898b06570",
   "metadata": {},
   "outputs": [
    {
     "name": "stdout",
     "output_type": "stream",
     "text": [
      "hello! welcome to our hotel\n"
     ]
    },
    {
     "name": "stdin",
     "output_type": "stream",
     "text": [
      "what's your name Ram\n"
     ]
    },
    {
     "name": "stdout",
     "output_type": "stream",
     "text": [
      "hi Ram! how may I help you\n"
     ]
    },
    {
     "name": "stdin",
     "output_type": "stream",
     "text": [
      "what's your age 17\n"
     ]
    }
   ],
   "source": [
    "#suppose we are having one hotel\n",
    "# hello ! welcome to 'our hotel'\n",
    "# what's your name\n",
    "# hi Ram! how may I help you\n",
    "# inputs ->\n",
    "# ouputs ->\n",
    "print(\"hello! welcome to our hotel\")\n",
    "# print(what's your name)\n",
    "name = input(\"what's your name\")\n",
    "print(\"hi \" + name + \"! how may I help you\")\n",
    "\n",
    "#check age >= 18\n",
    "#syntax\n",
    "#if it's raining outside - condition\n",
    "#carry a umbrella - statement\n",
    "# if(raining outside):\n",
    "#     print('carry a umbrella')\n",
    "#if age >=18 display 'welcome to our hotel'\n",
    "if age>=18: #17>=18\n",
    "    print('welcome to our hotel')\n"
   ]
  },
  {
   "cell_type": "code",
   "execution_count": 31,
   "id": "bedcf5ef-c933-4ef2-bdb2-27cb6b795f17",
   "metadata": {},
   "outputs": [
    {
     "name": "stdin",
     "output_type": "stream",
     "text": [
      "what's your age 17\n"
     ]
    },
    {
     "name": "stdout",
     "output_type": "stream",
     "text": [
      "kindly go home kid!\n",
      "bye! bye!\n",
      "program ends here!\n"
     ]
    }
   ],
   "source": [
    "# if age>=18 display 'welcome to our hotel' in the other cases display 'kindly go to home,kid!'\n",
    "age = int(input(\"what's your age\")) #17\n",
    "if age>=18: #17>=18\n",
    "    print('welcome to our hotel')\n",
    "else:\n",
    "    print('kindly go home kid!')\n",
    "    print('bye! bye!')\n",
    "print('program ends here!')"
   ]
  },
  {
   "cell_type": "code",
   "execution_count": null,
   "id": "d7f19a08-5dc1-44dc-8de8-e3057f2f8e41",
   "metadata": {},
   "outputs": [],
   "source": []
  }
 ],
 "metadata": {
  "kernelspec": {
   "display_name": "Python 3 (ipykernel)",
   "language": "python",
   "name": "python3"
  },
  "language_info": {
   "codemirror_mode": {
    "name": "ipython",
    "version": 3
   },
   "file_extension": ".py",
   "mimetype": "text/x-python",
   "name": "python",
   "nbconvert_exporter": "python",
   "pygments_lexer": "ipython3",
   "version": "3.9.13"
  }
 },
 "nbformat": 4,
 "nbformat_minor": 5
}
