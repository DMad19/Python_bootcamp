{
 "cells": [
  {
   "cell_type": "code",
   "execution_count": 9,
   "id": "5d79b311-4377-4aaf-a186-4ecd8fcc1741",
   "metadata": {},
   "outputs": [
    {
     "name": "stdout",
     "output_type": "stream",
     "text": [
      "[0, 1, 2, 3, 4, 5, 6, 7, 8, 9]\n"
     ]
    }
   ],
   "source": [
    "print(list(   range(0,10,1)   ))\n",
    "#range(0,10) -> returned sequence of number\n",
    "#range(0,10,2)\n",
    "      #start,end,step\n",
    "# 0 1 2 3 4 5 6 7 8 9 \n",
    "# 0 2 4 6 8\n",
    "#0 3 6 9\n",
    "#1 4 7"
   ]
  },
  {
   "cell_type": "code",
   "execution_count": 15,
   "id": "8c281049-d4aa-438b-b5b1-8f0e810e4860",
   "metadata": {},
   "outputs": [
    {
     "name": "stdout",
     "output_type": "stream",
     "text": [
      "0\n",
      "1\n",
      "2\n",
      "3\n",
      "4\n",
      "6\n",
      "7\n",
      "8\n",
      "9\n"
     ]
    }
   ],
   "source": [
    "#break\n",
    "#continue\n",
    "\n",
    "i = 0\n",
    "while i<10: #5<10\n",
    "    if i==5: #5==5\n",
    "        i+=1\n",
    "        continue\n",
    "    print(i) #4\n",
    "    i+=1     \n"
   ]
  },
  {
   "cell_type": "code",
   "execution_count": 1,
   "id": "986f6244-b8fd-4215-a95b-7c9525a621d4",
   "metadata": {},
   "outputs": [
    {
     "name": "stdin",
     "output_type": "stream",
     "text": [
      "enter name a\n",
      "enter name b\n",
      "enter name Ram\n"
     ]
    }
   ],
   "source": [
    "while True:\n",
    "    name = input('enter name')\n",
    "    if name == 'Ram':\n",
    "        break\n",
    "        \n",
    "#disadvantage -> if we forget condition changing statement -> infinite loop\n",
    "#advantage - > if don't know how many times you have to do a certain task , while loop comes into rescue"
   ]
  },
  {
   "cell_type": "code",
   "execution_count": 24,
   "id": "59365f38-1596-4206-8be3-e451ef5b8775",
   "metadata": {},
   "outputs": [
    {
     "name": "stdout",
     "output_type": "stream",
     "text": [
      "5\n",
      "50\n",
      "80\n",
      "90\n",
      "10\n",
      "40\n"
     ]
    }
   ],
   "source": [
    "# name = 'Yashwanth'\n",
    "#       012345678|9\n",
    "li = [50,80,90,10,40]\n",
    "#     0   1  2  3  4\n",
    "print(len(li))\n",
    "i = 0\n",
    "while i<len(li):\n",
    "    print(li[i]) #0 to len(name) = 9\n",
    "    i+=1"
   ]
  },
  {
   "cell_type": "code",
   "execution_count": 1,
   "id": "9cbb61d1-6e3e-4885-bed7-fa9dd6731d86",
   "metadata": {},
   "outputs": [
    {
     "name": "stdout",
     "output_type": "stream",
     "text": [
      "R\n",
      "a\n",
      "m\n"
     ]
    }
   ],
   "source": [
    "name = 'Ram'\n",
    "#       012\n",
    "print(name[0])\n",
    "print(name[1])\n",
    "print(name[2])"
   ]
  },
  {
   "cell_type": "code",
   "execution_count": 9,
   "id": "17446a9c-4e81-4004-a904-1f72747cd3c6",
   "metadata": {},
   "outputs": [
    {
     "name": "stdin",
     "output_type": "stream",
     "text": [
      " Dinesh\n"
     ]
    },
    {
     "name": "stdout",
     "output_type": "stream",
     "text": [
      "Dinesh\n",
      "6\n",
      "D\n",
      "i\n",
      "n\n",
      "e\n",
      "s\n",
      "h\n"
     ]
    }
   ],
   "source": [
    "name = input()\n",
    "print(name)\n",
    "print(len(name))\n",
    "#Dinesh\n",
    "#012345\n",
    "# print(name[0]) #variable[index]\n",
    "# print(name[1])\n",
    "# print(name[2])\n",
    "# print(name[3])\n",
    "# print(name[4])\n",
    "# print(name[5])\n",
    "i = 0\n",
    "while i<len(name):\n",
    "    print(name[i])\n",
    "    i+=1"
   ]
  },
  {
   "cell_type": "code",
   "execution_count": null,
   "id": "e3561b75-5a57-448d-b062-96fdf38e371e",
   "metadata": {},
   "outputs": [],
   "source": []
  }
 ],
 "metadata": {
  "kernelspec": {
   "display_name": "Python 3 (ipykernel)",
   "language": "python",
   "name": "python3"
  },
  "language_info": {
   "codemirror_mode": {
    "name": "ipython",
    "version": 3
   },
   "file_extension": ".py",
   "mimetype": "text/x-python",
   "name": "python",
   "nbconvert_exporter": "python",
   "pygments_lexer": "ipython3",
   "version": "3.9.13"
  }
 },
 "nbformat": 4,
 "nbformat_minor": 5
}
