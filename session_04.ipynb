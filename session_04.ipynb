{
 "cells": [
  {
   "cell_type": "code",
   "execution_count": 2,
   "id": "02decce8-a715-4133-b010-4fcb8ce7e09f",
   "metadata": {},
   "outputs": [
    {
     "name": "stdout",
     "output_type": "stream",
     "text": [
      "I'm in falsy part\n"
     ]
    }
   ],
   "source": [
    "if(0):  #0==0\n",
    "    print(\"I'm in truthy part\")\n",
    "else:\n",
    "    print(\"I'm in falsy part\")"
   ]
  },
  {
   "cell_type": "code",
   "execution_count": 3,
   "id": "257f0e8c-e0da-4972-bde6-55729597a022",
   "metadata": {},
   "outputs": [
    {
     "name": "stdin",
     "output_type": "stream",
     "text": [
      "enter number 4\n"
     ]
    },
    {
     "name": "stdout",
     "output_type": "stream",
     "text": [
      "even\n"
     ]
    }
   ],
   "source": [
    "#to check whether a number is even or odd\n",
    "#if a num divides by 2 and get remainder as 0 then it's even else it's odd\n",
    "# if num%2 == 0 then it's even else it's odd\n",
    "num = int(input('enter number'))\n",
    "if num%2 == 0:\n",
    "    print('even')\n",
    "else:\n",
    "    print('odd')"
   ]
  },
  {
   "cell_type": "code",
   "execution_count": 10,
   "id": "5720f7b5-e4f8-420d-b3a5-e5bb677c8597",
   "metadata": {},
   "outputs": [
    {
     "name": "stdin",
     "output_type": "stream",
     "text": [
      " 0\n"
     ]
    },
    {
     "name": "stdout",
     "output_type": "stream",
     "text": [
      "zero\n",
      "i'm out of loop\n"
     ]
    }
   ],
   "source": [
    "#I'll take a number and i'll check that number and return whether that number is positive, negative or zero\n",
    "#input - num\n",
    "#output - positive, negative, zero\n",
    "num = int(input()) \n",
    "if num>0:  #0>0            \n",
    "    print('positive')\n",
    "elif num==0: #0==0\n",
    "    print('zero')\n",
    "else:\n",
    "    print('negative')\n",
    "print(\"i'm out of loop\")"
   ]
  },
  {
   "cell_type": "code",
   "execution_count": 11,
   "id": "b86023dd-407b-4e7d-b8b5-93f428da5bcc",
   "metadata": {},
   "outputs": [
    {
     "name": "stdin",
     "output_type": "stream",
     "text": [
      "enter number1 7\n",
      "enter number2 12\n",
      "enter +,-,*,/,//,%,** +\n"
     ]
    },
    {
     "name": "stdout",
     "output_type": "stream",
     "text": [
      "19\n"
     ]
    }
   ],
   "source": [
    "#num1 and num2        5 7\n",
    "#operator - +,-,/,*,//,%,**    -\n",
    "# operator -> num1 operator num2  5-7 -2\n",
    "# + -> num1+num2\n",
    "\n",
    "#input - num1, num2 , operator\n",
    "#output \n",
    "\n",
    "\n",
    "num1 = int(input('enter number1'))\n",
    "num2 = int(input('enter number2'))\n",
    "operator = input('enter +,-,*,/,//,%,**') #$\n",
    "\n",
    "#if operator is + operator==+ then num1+num2\n",
    "#elif operator is - then num1-num2\n",
    "\n",
    "if operator == '+':\n",
    "    print(num1+num2)\n",
    "elif operator == '-':\n",
    "    print(num1-num2)\n",
    "elif operator == '*':\n",
    "    print(num1*num2)\n",
    "elif operator == '/':\n",
    "    print(num1/num2)\n",
    "elif operator == '//':\n",
    "    print(num1//num2)\n",
    "elif operator == '%':\n",
    "    print(num1%num2)\n",
    "elif operator == '**':\n",
    "    print(num1**num2)\n",
    "else:\n",
    "    print('operator is invalid')"
   ]
  },
  {
   "cell_type": "code",
   "execution_count": 14,
   "id": "976c56a6-2226-430d-bef8-ded3e5ee3303",
   "metadata": {},
   "outputs": [
    {
     "name": "stdin",
     "output_type": "stream",
     "text": [
      " 10\n",
      " 2\n",
      " //\n"
     ]
    },
    {
     "name": "stdout",
     "output_type": "stream",
     "text": [
      "5\n"
     ]
    }
   ],
   "source": [
    "#num1 and num2 \n",
    "num1 = int(input())  #10\n",
    "num2 = int(input())   #2\n",
    "#operator +,-\n",
    "operator = input() #'//'\n",
    "\n",
    "# if operator == + then addition  '$' '^' \n",
    "if operator == '+':   #'//' == '+'\n",
    "    print(num1+num2)\n",
    "elif operator == '-': #'//' =='-'\n",
    "    print(num1-num2)\n",
    "elif operator == '*':\n",
    "    print(num1*num2)\n",
    "elif operator == '/':\n",
    "    print(num1/num2)\n",
    "elif operator == '//': #'//' == '//'\n",
    "    print(num1//num2)\n",
    "elif operator == '%':\n",
    "    print(num1%num2)\n",
    "elif operator == '**':\n",
    "    print(num1**num2)\n",
    "else:\n",
    "    print('invalid')\n"
   ]
  },
  {
   "cell_type": "code",
   "execution_count": 27,
   "id": "f14fd204-6854-4ee5-b88b-bbad639d886f",
   "metadata": {},
   "outputs": [
    {
     "name": "stdin",
     "output_type": "stream",
     "text": [
      "enter name Ram\n",
      "enter age 20\n"
     ]
    },
    {
     "name": "stdout",
     "output_type": "stream",
     "text": [
      "no\n"
     ]
    }
   ],
   "source": [
    "#write a prog that takes name as input and age as input and if that name is equal to Ram or age is equal to 21\n",
    "#then print yes else no\n",
    "name = input('enter name')\n",
    "age = int(input('enter age'))\n",
    "if not(name == 'Ram' or age==21): #name != 'Ram and age!=21\n",
    "    print('yes')\n",
    "else:\n",
    "    print('no')\n",
    "# if name == 'Ram': \n",
    "#     if age==21:\n",
    "#         print('yes')\n",
    "#     else:\n",
    "#         print('No')\n",
    "# else:\n",
    "#     print('no')\n"
   ]
  },
  {
   "cell_type": "code",
   "execution_count": 26,
   "id": "77e6bdd5-17e5-4fbb-98e9-fbfeb43470df",
   "metadata": {},
   "outputs": [
    {
     "name": "stdout",
     "output_type": "stream",
     "text": [
      "True\n"
     ]
    }
   ],
   "source": [
    "print(not(bool(0)))"
   ]
  },
  {
   "cell_type": "code",
   "execution_count": null,
   "id": "31293bd9-50a2-4675-a55c-7782065f8945",
   "metadata": {},
   "outputs": [],
   "source": []
  }
 ],
 "metadata": {
  "kernelspec": {
   "display_name": "Python 3 (ipykernel)",
   "language": "python",
   "name": "python3"
  },
  "language_info": {
   "codemirror_mode": {
    "name": "ipython",
    "version": 3
   },
   "file_extension": ".py",
   "mimetype": "text/x-python",
   "name": "python",
   "nbconvert_exporter": "python",
   "pygments_lexer": "ipython3",
   "version": "3.9.13"
  }
 },
 "nbformat": 4,
 "nbformat_minor": 5
}
